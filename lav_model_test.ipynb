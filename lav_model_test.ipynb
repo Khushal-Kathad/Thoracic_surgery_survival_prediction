{
 "cells": [
  {
   "cell_type": "code",
   "execution_count": 4,
   "metadata": {},
   "outputs": [
    {
     "name": "stdout",
     "output_type": "stream",
     "text": [
      "\u001b[1m1/1\u001b[0m \u001b[32m━━━━━━━━━━━━━━━━━━━━\u001b[0m\u001b[37m\u001b[0m \u001b[1m0s\u001b[0m 60ms/step\n",
      "[[0.5746664]]\n",
      "Predicted class for the input data: ['death']\n"
     ]
    }
   ],
   "source": [
    "import pandas as pd\n",
    "from tensorflow.keras.models import load_model\n",
    "\n",
    "# Load the trained model\n",
    "model = load_model(\"C:\\\\Users\\\\91982\\\\Desktop\\\\Projects\\\\LIFE EXPECTANCY PREDICTION FOR POST THORACIC SURGERY - AI\\\\thoracic+surgery+data\\\\Thoracic_surgery_survival_prediction\\\\my_model_undersampling.keras\")\n",
    "\n",
    "# Prepare input data\n",
    "# live data 2, 2.88, 2.16, 1, 0, 0, 0, 1, 1, 4, 0, 0, 0, 1, 0, 60\n",
    "\n",
    "\n",
    "original_data = {\n",
    "    'Diagnosis': 3,\n",
    "    'FVC': 0.44,\n",
    "    'FEV1': 0.96,\n",
    "    'Performance': 2,\n",
    "    'Pain': 0,\n",
    "    'Haemoptysis': 1,\n",
    "    'Dyspnoea': 0,\n",
    "    'Cough': 1,\n",
    "    'Weakness': 1,\n",
    "    'Tumor_Size': 4,\n",
    "    'Diabetes_Mellitus': 0,\n",
    "    'PAD': 0,\n",
    "    'Smoking': 0,\n",
    "    'Age': 100\n",
    "}\n",
    "# original_data = {\n",
    "#     'Diagnosis': 3,\n",
    "#     'FVC': 1.96,\n",
    "#     'FEV1': 1.4,\n",
    "#     'Performance': 1,\n",
    "#     'Pain': 0,\n",
    "#     'Haemoptysis': 0,\n",
    "#     'Dyspnoea': 0,\n",
    "#     'Cough': 1,\n",
    "#     'Weakness': 0,\n",
    "#     'Tumor_Size': 1,\n",
    "#     'Diabetes_Mellitus': 0,\n",
    "#     'PAD': 0,\n",
    "#     'Smoking': 0,\n",
    "#     'Age': 77\n",
    "# }\n",
    "\n",
    "\n",
    "\n",
    "# Create a DataFrame from the input data\n",
    "input_df = pd.DataFrame([original_data])\n",
    "\n",
    "# Make predictions\n",
    "predictions = model.predict(input_df)\n",
    "\n",
    "print(predictions)\n",
    "\n",
    "# Assuming predictions closer to 0 represent 'live' and closer to 1 represent 'death'\n",
    "predicted_class = ['live' if pred < 0.5 else 'death' for pred in predictions]\n",
    "\n",
    "# Print predictions\n",
    "print(\"Predicted class for the input data:\", predicted_class)"
   ]
  },
  {
   "cell_type": "code",
   "execution_count": null,
   "metadata": {},
   "outputs": [],
   "source": []
  },
  {
   "cell_type": "code",
   "execution_count": null,
   "metadata": {},
   "outputs": [],
   "source": []
  },
  {
   "cell_type": "code",
   "execution_count": null,
   "metadata": {},
   "outputs": [],
   "source": []
  },
  {
   "cell_type": "code",
   "execution_count": null,
   "metadata": {},
   "outputs": [],
   "source": []
  },
  {
   "cell_type": "code",
   "execution_count": null,
   "metadata": {},
   "outputs": [],
   "source": []
  },
  {
   "cell_type": "code",
   "execution_count": null,
   "metadata": {},
   "outputs": [],
   "source": []
  }
 ],
 "metadata": {
  "kernelspec": {
   "display_name": "Python 3",
   "language": "python",
   "name": "python3"
  },
  "language_info": {
   "codemirror_mode": {
    "name": "ipython",
    "version": 3
   },
   "file_extension": ".py",
   "mimetype": "text/x-python",
   "name": "python",
   "nbconvert_exporter": "python",
   "pygments_lexer": "ipython3",
   "version": "3.12.2"
  }
 },
 "nbformat": 4,
 "nbformat_minor": 2
}
