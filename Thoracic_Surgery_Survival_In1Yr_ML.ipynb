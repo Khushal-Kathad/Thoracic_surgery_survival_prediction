{
 "cells": [
  {
   "cell_type": "code",
   "execution_count": null,
   "metadata": {},
   "outputs": [],
   "source": [
    "%matplotlib inline\n",
    "\n",
    "import pandas as pd\n",
    "import numpy as np\n",
    "import matplotlib.pyplot as plt\n",
    "import seaborn as sns\n"
   ]
  },
  {
   "cell_type": "code",
   "execution_count": null,
   "metadata": {},
   "outputs": [],
   "source": [
    "# Read data from csv file\n",
    "\n",
    "df = pd.read_csv(\"C:\\\\Users\\\\91982\\\\Desktop\\\\Projects\\\\LIFE EXPECTANCY PREDICTION FOR POST THORACIC SURGERY - AI\\\\thoracic+surgery+data\\\\Thoracic_surgery_survival_prediction\\\\Data Preprocessing\\\\thoracic_surgery.csv\")"
   ]
  },
  {
   "cell_type": "code",
   "execution_count": null,
   "metadata": {},
   "outputs": [],
   "source": [
    "df.head()"
   ]
  },
  {
   "cell_type": "code",
   "execution_count": null,
   "metadata": {},
   "outputs": [],
   "source": [
    "df.describe()"
   ]
  },
  {
   "cell_type": "code",
   "execution_count": null,
   "metadata": {},
   "outputs": [],
   "source": [
    "live = df[df['Death_In_1yr'] == 0]\n",
    "death = df[df['Death_In_1yr'] == 1]\n",
    "\n",
    "condition = ['FVC', 'FEV1', 'Performance', 'Pain', 'Haemoptysis', 'Dyspnoea', 'Cough', 'Weakness',\n",
    "             'Tumor_Size', 'Diabetes_Mellitus', 'MI_6mo', 'PAD', 'Smoking', 'Asthma', 'Age']\n",
    "\n",
    "l = [np.mean(live[c]) for c in condition]\n",
    "d = [np.mean(death[c]) for c in condition]\n",
    "\n",
    "ld = pd.DataFrame(\n",
    "    data={'Attribute': condition, 'Live 1yr Mean': l, 'Death 1yr Mean': d})\n",
    "ld = ld.set_index('Attribute')\n",
    "\n",
    "print('Death: {:d}, Live: {:d}'.format(len(death), len(live)))\n",
    "print(\"1 year death: {:.2f}% out of 454 patients\".format(\n",
    "    np.mean(df.Death_In_1yr)*100))\n",
    "\n",
    "\n",
    "ld"
   ]
  },
  {
   "cell_type": "code",
   "execution_count": null,
   "metadata": {},
   "outputs": [],
   "source": [
    "#Count plots of Diagnosis, Tumor_Size, Performance with difference of live and death data\n",
    "\n",
    "fig, axes = plt.subplots(3,1,figsize=(10,15))\n",
    "\n",
    "sns.countplot(x='Diagnosis', hue='Death_In_1yr', data=df, palette='Reds_d', ax=axes[0]).set_title('Diagnosis', fontsize=18)\n",
    "sns.countplot(x='Tumor_Size', hue='Death_In_1yr', data=df, palette='Greens_d', ax=axes[1]).set_title('Tumor_Size', fontsize=18)\n",
    "sns.countplot(x='Performance', hue='Death_In_1yr', data=df, palette='Blues_d', ax=axes[2]).set_title('Performance', fontsize=18)\n",
    "\n",
    "plt.tight_layout()"
   ]
  },
  {
   "cell_type": "code",
   "execution_count": null,
   "metadata": {},
   "outputs": [],
   "source": [
    "\n",
    "# Correlation coefficients for FVC and FEV1\n",
    "np.corrcoef(df.FVC, df.FEV1)[0, 1]"
   ]
  },
  {
   "cell_type": "code",
   "execution_count": null,
   "metadata": {},
   "outputs": [],
   "source": [
    "\n",
    "# Correlation coefficients for Age and FVC\n",
    "np.corrcoef(df.Age, df.FVC)[0, 1]"
   ]
  },
  {
   "cell_type": "code",
   "execution_count": null,
   "metadata": {},
   "outputs": [],
   "source": [
    "\n",
    "# Correlation coefficients for Age and FEV1\n",
    "np.corrcoef(df.Age, df.FEV1)[0, 1]"
   ]
  },
  {
   "cell_type": "code",
   "execution_count": null,
   "metadata": {},
   "outputs": [],
   "source": [
    "df.corr()"
   ]
  },
  {
   "cell_type": "code",
   "execution_count": null,
   "metadata": {},
   "outputs": [],
   "source": [
    "# Use Heat Map to see it well\n",
    "plt.figure(figsize=(20, 10))\n",
    "sns.heatmap(df.corr(), annot=True)\n",
    "plt.show()"
   ]
  },
  {
   "cell_type": "code",
   "execution_count": null,
   "metadata": {},
   "outputs": [],
   "source": [
    "# Check the Skewness whether bell or gaussian distribution\n",
    "# neg = left\n",
    "# positive = right\n",
    "# closer to 0 is less skew\n",
    "df.skew()"
   ]
  },
  {
   "cell_type": "code",
   "execution_count": null,
   "metadata": {},
   "outputs": [],
   "source": []
  },
  {
   "cell_type": "code",
   "execution_count": null,
   "metadata": {},
   "outputs": [],
   "source": [
    "from sklearn.linear_model import LogisticRegression\n",
    "from sklearn.model_selection import train_test_split\n",
    "from sklearn.metrics import confusion_matrix, classification_report, accuracy_score\n",
    "from sklearn.metrics import accuracy_score, precision_score, recall_score, f1_score, roc_auc_score\n",
    "from imblearn.over_sampling import SMOTE\n",
    "from sklearn.preprocessing import StandardScaler\n",
    "from sklearn.pipeline import Pipeline"
   ]
  },
  {
   "cell_type": "markdown",
   "metadata": {},
   "source": [
    "<h2>Logistic Regration Model creation</h2>"
   ]
  },
  {
   "cell_type": "code",
   "execution_count": null,
   "metadata": {},
   "outputs": [],
   "source": [
    "X = df.drop(['Death_In_1yr', 'MI_6mo', 'Asthma'], axis=1)\n",
    "y = df['Death_In_1yr']"
   ]
  },
  {
   "cell_type": "code",
   "execution_count": null,
   "metadata": {},
   "outputs": [],
   "source": [
    "X_train, X_test, Y_train, Y_test = train_test_split(\n",
    "    X, y, test_size=0.3, random_state=7, stratify=y)\n",
    "\n",
    "\n",
    "lr_model = LogisticRegression()\n",
    "\n",
    "lr_model.fit(X_train, Y_train)"
   ]
  },
  {
   "cell_type": "code",
   "execution_count": null,
   "metadata": {},
   "outputs": [],
   "source": [
    "y_pred = lr_model.predict(X_test)\n",
    "y_pred = y_pred.round().flatten()"
   ]
  },
  {
   "cell_type": "code",
   "execution_count": null,
   "metadata": {},
   "outputs": [],
   "source": [
    "cnf_matrix = confusion_matrix(Y_test, y_pred)\n",
    "cnf_matrix"
   ]
  },
  {
   "cell_type": "code",
   "execution_count": null,
   "metadata": {},
   "outputs": [],
   "source": [
    "nor_cnf = cnf_matrix.astype('float') / cnf_matrix.sum(axis=1)[:, np.newaxis]\n",
    "print(\"Normalized confusion matrix\")\n",
    "print(nor_cnf)"
   ]
  },
  {
   "cell_type": "code",
   "execution_count": null,
   "metadata": {},
   "outputs": [],
   "source": [
    "classes = ['live', 'death']\n",
    "print(classification_report(Y_test, y_pred, target_names=classes))"
   ]
  },
  {
   "cell_type": "code",
   "execution_count": null,
   "metadata": {},
   "outputs": [],
   "source": [
    "\n",
    "\n",
    "plt.imshow(nor_cnf, interpolation='nearest', cmap=plt.cm.Blues)\n",
    "\n",
    "for i in range(len(classes)):\n",
    "    for j in range(len(classes)):\n",
    "        plt.text(j, i, '{:.2f}'.format(\n",
    "            nor_cnf[i, j]), horizontalalignment=\"center\", color=\"black\")\n",
    "\n",
    "\n",
    "plt.title('Logistic Regration X')\n",
    "plt.colorbar()\n",
    "tick_marks = np.arange(len(classes))\n",
    "plt.xticks(tick_marks, classes, rotation=45)\n",
    "plt.yticks(tick_marks, classes)\n",
    "plt.ylabel('True label')\n",
    "plt.xlabel('Predicted label')"
   ]
  },
  {
   "cell_type": "markdown",
   "metadata": {},
   "source": [
    "<h3>By analysing the confusion matrix we conclude that over model is overfited so we need feature scaling and regularization to overcome this error</h3>"
   ]
  },
  {
   "cell_type": "markdown",
   "metadata": {},
   "source": [
    "<h2>Logistic Regration Model creation with Regularization, feature sacling and pipelining significant</h2>"
   ]
  },
  {
   "cell_type": "code",
   "execution_count": null,
   "metadata": {},
   "outputs": [],
   "source": [
    "X = df.drop(['MI_6mo', 'Death_In_1yr',  'Asthma'], axis=1)\n",
    "y = df['Death_In_1yr']"
   ]
  },
  {
   "cell_type": "code",
   "execution_count": null,
   "metadata": {},
   "outputs": [],
   "source": [
    "X_train, X_test, Y_train, Y_test = train_test_split(X, y, test_size=0.30, random_state=4, stratify=y)\n",
    "\n",
    "\n",
    "smote = SMOTE(random_state=4)\n",
    "\n",
    "\n",
    "x_train_resamp, y_train_resamp = smote.fit_resample(X_train, Y_train)\n",
    "\n"
   ]
  },
  {
   "cell_type": "code",
   "execution_count": null,
   "metadata": {},
   "outputs": [],
   "source": [
    "# logistic regression model with regularization\n",
    "lr_model = LogisticRegression(penalty='l2', C=1.0, random_state=4)\n",
    "# Example: StandardScaler for scaling features\n",
    "preprocessing = [('scaler', StandardScaler())]\n",
    "\n",
    "# preprocessor pipeline\n",
    "preprocessor = Pipeline(steps=preprocessing)\n",
    "\n",
    "# Combine preprocessing steps with the model in a pipeline\n",
    "model = Pipeline(steps=[('preprocessor', preprocessor),('classifier', lr_model)])"
   ]
  },
  {
   "cell_type": "code",
   "execution_count": null,
   "metadata": {},
   "outputs": [],
   "source": [
    "model.fit(X_train, Y_train)"
   ]
  },
  {
   "cell_type": "code",
   "execution_count": null,
   "metadata": {},
   "outputs": [],
   "source": [
    "y_pred = model.predict(X_test)\n",
    "\n",
    "accuracy = accuracy_score(Y_test, y_pred)\n",
    "precision = precision_score(Y_test, y_pred)\n",
    "recall = recall_score(Y_test, y_pred)\n",
    "f1 = f1_score(Y_test, y_pred)\n",
    "roc_auc = roc_auc_score(Y_test, y_pred)\n",
    "\n",
    "print(\"Accuracy:\", accuracy)\n",
    "print(\"Precision:\", precision)\n",
    "print(\"Recall:\", recall)\n",
    "print(\"F1 Score:\", f1)\n",
    "print(\"ROC AUC Score:\", roc_auc)"
   ]
  },
  {
   "cell_type": "code",
   "execution_count": null,
   "metadata": {},
   "outputs": [],
   "source": [
    "cnf_matrix = confusion_matrix(Y_test, y_pred)\n",
    "cnf_matrix"
   ]
  },
  {
   "cell_type": "code",
   "execution_count": null,
   "metadata": {},
   "outputs": [],
   "source": [
    "nor_cnf = cnf_matrix.astype('float') / cnf_matrix.sum(axis=1)[:, np.newaxis]\n",
    "print(\"Normalized confusion matrix\")\n",
    "print(nor_cnf)"
   ]
  },
  {
   "cell_type": "code",
   "execution_count": null,
   "metadata": {},
   "outputs": [],
   "source": [
    "classes = ['live', 'death']\n",
    "print(classification_report(Y_test, y_pred, target_names=classes))"
   ]
  },
  {
   "cell_type": "code",
   "execution_count": null,
   "metadata": {},
   "outputs": [],
   "source": [
    "\n",
    "\n",
    "plt.imshow(nor_cnf, interpolation='nearest', cmap=plt.cm.Blues)\n",
    "\n",
    "for i in range(len(classes)):\n",
    "    for j in range(len(classes)):\n",
    "        plt.text(j, i, '{:.2f}'.format(\n",
    "            nor_cnf[i, j]), horizontalalignment=\"center\", color=\"black\")\n",
    "\n",
    "\n",
    "plt.title('Logistic Regration X')\n",
    "plt.colorbar()\n",
    "tick_marks = np.arange(len(classes))\n",
    "plt.xticks(tick_marks, classes, rotation=45)\n",
    "plt.yticks(tick_marks, classes)\n",
    "plt.ylabel('True label')\n",
    "plt.xlabel('Predicted label')"
   ]
  },
  {
   "cell_type": "code",
   "execution_count": null,
   "metadata": {},
   "outputs": [],
   "source": [
    "from joblib import dump\n",
    "dump(model, 'logisticregration_model.joblib')"
   ]
  },
  {
   "cell_type": "markdown",
   "metadata": {},
   "source": [
    "<h1>Random Forest Classification</h1>"
   ]
  },
  {
   "cell_type": "code",
   "execution_count": null,
   "metadata": {},
   "outputs": [],
   "source": [
    "from sklearn.ensemble import RandomForestClassifier"
   ]
  },
  {
   "cell_type": "markdown",
   "metadata": {},
   "source": [
    "<h2>Hypothisis  Testing</h2>\n"
   ]
  },
  {
   "cell_type": "code",
   "execution_count": null,
   "metadata": {},
   "outputs": [],
   "source": [
    "def permutation_sample(data1, data2):\n",
    "    \"\"\"Generate a permutation sample from two data sets.\"\"\"\n",
    "    permuted_data = np.random.permutation(np.concatenate((data1, data2)))\n",
    "    return permuted_data[:len(data1)], permuted_data[len(data1):]\n",
    "\n",
    "\n",
    "def draw_perm_reps(data_1, data_2, func, size=1):\n",
    "    \"\"\"Generate multiple permutation replicates.\"\"\"\n",
    "    perm_replicates = np.empty(size)\n",
    "    for i in range(size):\n",
    "        perm_sample_1, perm_sample_2 = permutation_sample(data_1, data_2)\n",
    "        perm_replicates[i] = func(perm_sample_1, perm_sample_2)\n",
    "    return perm_replicates\n",
    "\n",
    "\n",
    "def diff_of_means(data_1, data_2):\n",
    "    \"\"\"Difference in means of two arrays.\"\"\"\n",
    "    return np.mean(data_1) - np.mean(data_2)"
   ]
  },
  {
   "cell_type": "code",
   "execution_count": null,
   "metadata": {},
   "outputs": [],
   "source": [
    "# Hypothesis testing with Permutations of data\n",
    "condition = ['FVC', 'FEV1', 'Performance', 'Pain', 'Haemoptysis', 'Dyspnoea', 'Cough', 'Weakness',\n",
    "             'Tumor_Size', 'Diabetes_Mellitus', 'MI_6mo', 'PAD', 'Smoking', 'Asthma', 'Age']\n",
    "\n",
    "p_values = []\n",
    "for c in condition:\n",
    "    empirical_diff_means = diff_of_means(death[c], live[c])\n",
    "    perm_replicates = draw_perm_reps(\n",
    "        death[c], live[c], diff_of_means, size=10000)\n",
    "    p = np.sum(perm_replicates >= empirical_diff_means if empirical_diff_means >\n",
    "               0 else perm_replicates <= empirical_diff_means) / len(perm_replicates)\n",
    "    p_values.append(p)\n",
    "\n",
    "print(list(zip(condition, p_values)))"
   ]
  },
  {
   "cell_type": "code",
   "execution_count": null,
   "metadata": {},
   "outputs": [],
   "source": [
    "X = df[['Performance', 'Dyspnoea', 'Cough', 'Tumor_Size', 'Diabetes_Mellitus']]\n",
    "y = df['Death_In_1yr']"
   ]
  },
  {
   "cell_type": "code",
   "execution_count": null,
   "metadata": {},
   "outputs": [],
   "source": [
    "X_train, X_test, y_train, y_test = train_test_split(X, y, test_size=.3, random_state=1111, stratify=y)\n",
    "rfc_model = RandomForestClassifier(class_weight='balanced', random_state=1111)\n",
    "rfc_model.fit(X_train,Y_train)"
   ]
  },
  {
   "cell_type": "code",
   "execution_count": null,
   "metadata": {},
   "outputs": [],
   "source": [
    "y_pred = rfc_model.predict(X_test)\n",
    "\n",
    "# Model evaluation\n",
    "accuracy = accuracy_score(Y_test, y_pred)\n",
    "precision = precision_score(Y_test, y_pred)\n",
    "recall = recall_score(Y_test, y_pred)\n",
    "f1 = f1_score(Y_test, y_pred)\n",
    "roc_auc = roc_auc_score(Y_test, y_pred)\n",
    "\n",
    "print(\"Accuracy:\", accuracy)\n",
    "print(\"Precision:\", precision)\n",
    "print(\"Recall:\", recall)\n",
    "print(\"F1 Score:\", f1)\n",
    "print(\"ROC AUC Score:\", roc_auc)"
   ]
  },
  {
   "cell_type": "code",
   "execution_count": null,
   "metadata": {},
   "outputs": [],
   "source": [
    "# Confusion Matrix\n",
    "cnf_matrix = confusion_matrix(Y_test, y_pred)\n",
    "print(\"Confusion Matrix:\")\n",
    "print(cnf_matrix)"
   ]
  },
  {
   "cell_type": "code",
   "execution_count": null,
   "metadata": {},
   "outputs": [],
   "source": [
    "# Normalized Confusion Matrix\n",
    "nor_cnf = cnf_matrix.astype('float') / cnf_matrix.sum(axis=1)[:, np.newaxis]\n",
    "print(\"Normalized Confusion Matrix:\")\n",
    "print(nor_cnf)"
   ]
  },
  {
   "cell_type": "code",
   "execution_count": null,
   "metadata": {},
   "outputs": [],
   "source": [
    "# Classification Report\n",
    "classes = ['live', 'death']\n",
    "print(\"Classification Report:\")\n",
    "print(classification_report(Y_test, y_pred, target_names=classes))"
   ]
  },
  {
   "cell_type": "code",
   "execution_count": null,
   "metadata": {},
   "outputs": [],
   "source": [
    "# Plotting Confusion Matrix\n",
    "plt.imshow(nor_cnf, interpolation='nearest', cmap=plt.cm.Blues)\n",
    "for i in range(len(classes)):\n",
    "    for j in range(len(classes)):\n",
    "        plt.text(j, i, '{:.2f}'.format(\n",
    "            nor_cnf[i, j]), horizontalalignment=\"center\", color=\"black\")\n",
    "plt.title('Random Forest Classifier')\n",
    "plt.colorbar()\n",
    "tick_marks = np.arange(len(classes))\n",
    "plt.xticks(tick_marks, classes, rotation=45)\n",
    "plt.yticks(tick_marks, classes)\n",
    "plt.ylabel('True label')\n",
    "plt.xlabel('Predicted label')\n",
    "plt.show()"
   ]
  },
  {
   "cell_type": "code",
   "execution_count": null,
   "metadata": {},
   "outputs": [],
   "source": [
    "from joblib import dump\n",
    "dump(model, 'rendomforest_model.joblib')"
   ]
  },
  {
   "cell_type": "markdown",
   "metadata": {},
   "source": [
    "<h1>Model testing</h1>"
   ]
  },
  {
   "cell_type": "code",
   "execution_count": null,
   "metadata": {},
   "outputs": [],
   "source": [
    "import pandas as pd\n",
    "from joblib import load\n",
    "\n",
    "# Load the trained model\n",
    "model = load(\"C:\\\\Users\\\\91982\\\\Desktop\\\\Projects\\\\LIFE EXPECTANCY PREDICTION FOR POST THORACIC SURGERY - AI\\\\thoracic+surgery+data\\\\logisticregration_model.joblib\")\n",
    "\n",
    "# Prepare input data\n",
    "original_data = {\n",
    "    'Diagnosis': 3,\n",
    "    'FVC': 3.8,\n",
    "    'FEV1': 2.8,\n",
    "    'Performance': 0,\n",
    "    'Pain': 0,\n",
    "    'Haemoptysis': 0,\n",
    "    'Dyspnoea': 0,\n",
    "    'Cough': 0,\n",
    "    'Weakness': 0,\n",
    "    'Tumor_Size': 4,\n",
    "    'Diabetes_Mellitus': 0,\n",
    "    'PAD': 0,\n",
    "    'Smoking': 0,\n",
    "    'Age': 60\n",
    "}\n",
    "\n",
    "# 'Diagnosis': 1,\n",
    "#     'FVC': 0,\n",
    "#     'FEV1': 0,\n",
    "#     'Performance': 0,\n",
    "#     'Pain': 1,\n",
    "#     'Haemoptysis': 1,\n",
    "#     'Dyspnoea': 1,\n",
    "#     'Cough': 1,\n",
    "#     'Weakness': 1,\n",
    "#     'Tumor_Size': 0,\n",
    "#     'Diabetes_Mellitus': 1,\n",
    "#     'PAD': 1,\n",
    "#     'Smoking': 1,\n",
    "#     'Age': 30\n",
    "\n",
    "# Create a DataFrame from the input data\n",
    "input_df = pd.DataFrame([original_data])\n",
    "\n",
    "# Make predictions\n",
    "predictions = model.predict(input_df)\n",
    "\n",
    "# Map predicted labels to 'live' or 'death'\n",
    "predicted_class = ['live' if pred == 0 else 'death' for pred in predictions]\n",
    "\n",
    "# Print predictions\n",
    "print(\"Predicted class for the input data:\", predicted_class)"
   ]
  },
  {
   "cell_type": "code",
   "execution_count": null,
   "metadata": {},
   "outputs": [],
   "source": []
  }
 ],
 "metadata": {
  "kernelspec": {
   "display_name": "Python 3",
   "language": "python",
   "name": "python3"
  },
  "language_info": {
   "codemirror_mode": {
    "name": "ipython",
    "version": 3
   },
   "file_extension": ".py",
   "mimetype": "text/x-python",
   "name": "python",
   "nbconvert_exporter": "python",
   "pygments_lexer": "ipython3",
   "version": "3.12.2"
  }
 },
 "nbformat": 4,
 "nbformat_minor": 2
}
